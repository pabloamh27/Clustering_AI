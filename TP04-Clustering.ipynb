{
 "cells": [
  {
   "attachments": {},
   "cell_type": "markdown",
   "metadata": {},
   "source": [
    "### Instituto Tecnológico de Costa Rica (ITCR)\n",
    "### Escuela de Computación\n",
    "### Curso: Inteligencia Artificial\n",
    " \n",
    "### Cuarta tarea programada \n",
    "\n",
    "\n",
    "Profesora: María Auxiliadora Mora\n",
    "\n",
    "Estudiantes:\n",
    " 1. Pablo Alberto Muñoz Hidalgo\n",
    " 2. Luis Andrés Rojas Murillo\n",
    "\n",
    "Medio de entrega: Por medio del TEC-Digital.\n",
    "\n",
    "Entregables: Un archivo en Jupyter ( .IPYNB ). \n",
    "\n",
    "Modo de trabajo: En parejas.\n",
    "\n",
    "--- \n",
    "\n",
    " "
   ]
  },
  {
   "attachments": {},
   "cell_type": "markdown",
   "metadata": {},
   "source": [
    "### Area de estudio: \n",
    "GPT sugirió estas posibles áreas "
   ]
  },
  {
   "attachments": {},
   "cell_type": "markdown",
   "metadata": {},
   "source": [
    "- Datos de censo: El Instituto Nacional de Estadística y Censos (INEC) de Costa Rica proporciona datos demográficos y socioeconómicos recopilados a través de los censos nacionales. Estos datos pueden incluir información sobre la población, viviendas, ingresos, educación, empleo, entre otros.\n",
    "\n",
    "- Datos de salud: La Caja Costarricense de Seguro Social (CCSS) y el Ministerio de Salud de Costa Rica recopilan datos relacionados con la salud, como estadísticas de enfermedades, atención médica, hospitales y clínicas, medicamentos, etc.\n",
    "\n",
    "- Datos ambientales: El Ministerio de Ambiente y Energía (MINAE) y otras organizaciones gubernamentales y no gubernamentales en Costa Rica recopilan datos sobre el medio ambiente, como la calidad del aire y del agua, biodiversidad, áreas protegidas, cambio climático, entre otros.\n",
    "\n",
    "- Datos de transporte: El Consejo de Transporte Público (CTP) y el Ministerio de Obras Públicas y Transportes (MOPT) proporcionan datos relacionados con el transporte público, infraestructuras de transporte, flotas de vehículos, rutas, horarios, etc.\n",
    "\n",
    "- Datos económicos: El Banco Central de Costa Rica y otras instituciones financieras proporcionan datos económicos y financieros, como indicadores macroeconómicos, comercio exterior, tasas de interés, inflación, entre otros.\n",
    "\n",
    "- Redes sociales y datos en línea: Las redes sociales y otras plataformas en línea pueden proporcionar datos que reflejen el comportamiento y las interacciones de las personas en Costa Rica. Estos datos pueden incluir publicaciones, comentarios, perfiles de usuarios, conexiones entre usuarios, etc."
   ]
  },
  {
   "attachments": {},
   "cell_type": "markdown",
   "metadata": {},
   "source": [
    "# Parte 1"
   ]
  },
  {
   "attachments": {},
   "cell_type": "markdown",
   "metadata": {},
   "source": [
    "## Definición del proyecto "
   ]
  },
  {
   "attachments": {},
   "cell_type": "markdown",
   "metadata": {},
   "source": [
    "### Justificación:\n"
   ]
  },
  {
   "attachments": {},
   "cell_type": "markdown",
   "metadata": {},
   "source": [
    "### Antecedentes:\n",
    "4 articulos cientificios relacionados al area de estudio"
   ]
  },
  {
   "attachments": {},
   "cell_type": "markdown",
   "metadata": {},
   "source": [
    "### Marco teórico:\n",
    "#### - Algoritmos a utilizar\n",
    "gpt sugirió estos como un top 4 de los mas faciles, e incluyo los que la profe dijo que debian de ir si o si \n",
    "-  K-means: Es uno de los algoritmos de clustering más utilizados y fáciles de implementar. Se basa en asignar puntos a clusters en función de su proximidad a los centroides de los grupos.\n",
    "-  Mean Shift: Este algoritmo también es relativamente sencillo de implementar. Utiliza un enfoque de búsqueda de densidad para encontrar los centroides de los clusters.\n",
    "-  DBSCAN (Density-Based Spatial Clustering of Applications with Noise): Es un algoritmo basado en la densidad que puede descubrir clusters de formas y tamaños arbitrarios. Es un poco más complejo de implementar que K-means y Mean Shift, ya que requiere la configuración de parámetros adicionales.\n",
    "-  Agglomerative Hierarchical Clustering: Este enfoque de clustering construye una jerarquía de clusters de manera incremental. Comienza considerando cada punto como un cluster individual y luego fusiona los clusters hasta obtener un número deseado de grupos. La implementación puede ser un poco más compleja que los algoritmos anteriores debido a la manipulación de la jerarquía.\n",
    "\n",
    "#### - Definicion del problema:\n",
    "\n",
    "#### - Objetivos:\n",
    "\n",
    "#### - Fuentes de datos:"
   ]
  },
  {
   "attachments": {},
   "cell_type": "markdown",
   "metadata": {},
   "source": [
    "## Metodología"
   ]
  },
  {
   "attachments": {},
   "cell_type": "markdown",
   "metadata": {},
   "source": [
    "## Resultados "
   ]
  },
  {
   "attachments": {},
   "cell_type": "markdown",
   "metadata": {},
   "source": [
    "## Referencias"
   ]
  },
  {
   "attachments": {},
   "cell_type": "markdown",
   "metadata": {},
   "source": [
    "# Parte 2\n",
    "aquí va el código "
   ]
  },
  {
   "cell_type": "code",
   "execution_count": null,
   "metadata": {},
   "outputs": [],
   "source": []
  },
  {
   "attachments": {},
   "cell_type": "markdown",
   "metadata": {},
   "source": []
  }
 ],
 "metadata": {
  "kernelspec": {
   "display_name": "Python 3",
   "language": "python",
   "name": "python3"
  },
  "language_info": {
   "codemirror_mode": {
    "name": "ipython",
    "version": 3
   },
   "file_extension": ".py",
   "mimetype": "text/x-python",
   "name": "python",
   "nbconvert_exporter": "python",
   "pygments_lexer": "ipython3",
   "version": "3.10.9"
  },
  "orig_nbformat": 4
 },
 "nbformat": 4,
 "nbformat_minor": 2
}
